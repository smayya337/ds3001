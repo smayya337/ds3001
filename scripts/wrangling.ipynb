{
 "cells": [
  {
   "cell_type": "code",
   "execution_count": 1,
   "id": "5ede5fe9",
   "metadata": {},
   "outputs": [
    {
     "name": "stdout",
     "output_type": "stream",
     "text": [
      "C:\\Users\\karan\\OneDrive\\Desktop\\College_Stuff\\ds_ml\\ds3001\n",
      "C:\\Users\\karan\\OneDrive\\Desktop\\College_Stuff\\ds_ml\\ds3001\n"
     ]
    }
   ],
   "source": [
    "import numpy as np\n",
    "import pandas as pd\n",
    "import matplotlib.pyplot as plt\n",
    "import seaborn as sns\n",
    "import os\n",
    "\n",
    "current_dir = os.getcwd()\n",
    "parent_dir = os.path.dirname(current_dir)\n",
    "\n",
    "print(parent_dir)\n",
    "os.chdir(parent_dir)\n",
    "print(os.getcwd())"
   ]
  },
  {
   "cell_type": "code",
   "execution_count": 2,
   "id": "427e7996",
   "metadata": {},
   "outputs": [
    {
     "name": "stdout",
     "output_type": "stream",
     "text": [
      "4449\n"
     ]
    }
   ],
   "source": [
    "folder_path = './data'\n",
    "\n",
    "file_names = []\n",
    "for item in os.listdir(folder_path):\n",
    "    item_path = os.path.join(folder_path, item)\n",
    "    if os.path.isfile(item_path):\n",
    "        file_names.append(item)\n",
    "\n",
    "print(len(file_names))\n",
    "# print(file_names)"
   ]
  },
  {
   "cell_type": "code",
   "execution_count": 35,
   "id": "1300e9c6",
   "metadata": {},
   "outputs": [],
   "source": [
    "df = pd.DataFrame()\n",
    "\n",
    "for name in file_names:\n",
    "    path_name = './data/'+ name\n",
    "\n",
    "    # print(path_name)\n",
    "\n",
    "    temp_df = pd.read_csv(path_name)\n",
    "    \n",
    "    temp_df.drop(columns=['Unnamed: 0', 'Unnamed: 0.1', 'Unnamed: 0.1.1'], inplace=True)\n",
    "    \n",
    "    \n",
    "    df = pd.concat([df, temp_df], ignore_index=True)\n",
    "\n"
   ]
  },
  {
   "cell_type": "code",
   "execution_count": 41,
   "id": "bdb650bc",
   "metadata": {},
   "outputs": [],
   "source": [
    "    \n",
    "df['year'] = df['match_id'].str[:4].astype(int)\n",
    "    \n",
    "\n",
    "def update_year(row):\n",
    "    if row['year'] == 2020 and int(row['match_id'][4:6]) >= 12:\n",
    "        return row['year'] + 1\n",
    "    elif row['year'] != 2020 and 9 <= int(row['match_id'][4:6]) <= 12:\n",
    "        return row['year'] + 1\n",
    "    else:\n",
    "        return row['year']\n",
    "    \n",
    "\n",
    "df['year'] = df.apply(update_year, axis=1)\n",
    "\n"
   ]
  },
  {
   "cell_type": "code",
   "execution_count": 54,
   "id": "34e209a9",
   "metadata": {},
   "outputs": [],
   "source": [
    "# Everything seems clean, so after adding a year variable to show the season it takes place, nothing else is needed"
   ]
  },
  {
   "cell_type": "code",
   "execution_count": 44,
   "id": "06127b8d",
   "metadata": {},
   "outputs": [
    {
     "data": {
      "text/html": [
       "<div>\n",
       "<style scoped>\n",
       "    .dataframe tbody tr th:only-of-type {\n",
       "        vertical-align: middle;\n",
       "    }\n",
       "\n",
       "    .dataframe tbody tr th {\n",
       "        vertical-align: top;\n",
       "    }\n",
       "\n",
       "    .dataframe thead th {\n",
       "        text-align: right;\n",
       "    }\n",
       "</style>\n",
       "<table border=\"1\" class=\"dataframe\">\n",
       "  <thead>\n",
       "    <tr style=\"text-align: right;\">\n",
       "      <th></th>\n",
       "      <th>match_id</th>\n",
       "      <th>shotX</th>\n",
       "      <th>shotY</th>\n",
       "      <th>quarter</th>\n",
       "      <th>time_remaining</th>\n",
       "      <th>player</th>\n",
       "      <th>team</th>\n",
       "      <th>made</th>\n",
       "      <th>shot_type</th>\n",
       "      <th>distance</th>\n",
       "      <th>score</th>\n",
       "      <th>opp</th>\n",
       "      <th>status</th>\n",
       "      <th>year</th>\n",
       "    </tr>\n",
       "  </thead>\n",
       "  <tbody>\n",
       "    <tr>\n",
       "      <th>0</th>\n",
       "      <td>200010310ATL</td>\n",
       "      <td>8.3</td>\n",
       "      <td>20.2</td>\n",
       "      <td>1st quarter</td>\n",
       "      <td>11:29.0</td>\n",
       "      <td>Baron Davis</td>\n",
       "      <td>CHH</td>\n",
       "      <td>False</td>\n",
       "      <td>2-pointer</td>\n",
       "      <td>22</td>\n",
       "      <td>0-2</td>\n",
       "      <td>'CHH'</td>\n",
       "      <td>trails</td>\n",
       "      <td>2001</td>\n",
       "    </tr>\n",
       "    <tr>\n",
       "      <th>1</th>\n",
       "      <td>200010310ATL</td>\n",
       "      <td>35.9</td>\n",
       "      <td>15.8</td>\n",
       "      <td>1st quarter</td>\n",
       "      <td>10:41.0</td>\n",
       "      <td>Jamal Mashburn</td>\n",
       "      <td>CHH</td>\n",
       "      <td>False</td>\n",
       "      <td>2-pointer</td>\n",
       "      <td>16</td>\n",
       "      <td>0-2</td>\n",
       "      <td>'CHH'</td>\n",
       "      <td>trails</td>\n",
       "      <td>2001</td>\n",
       "    </tr>\n",
       "    <tr>\n",
       "      <th>2</th>\n",
       "      <td>200010310ATL</td>\n",
       "      <td>24.0</td>\n",
       "      <td>5.0</td>\n",
       "      <td>1st quarter</td>\n",
       "      <td>10:38.0</td>\n",
       "      <td>Baron Davis</td>\n",
       "      <td>CHH</td>\n",
       "      <td>False</td>\n",
       "      <td>2-pointer</td>\n",
       "      <td>0</td>\n",
       "      <td>0-2</td>\n",
       "      <td>'CHH'</td>\n",
       "      <td>trails</td>\n",
       "      <td>2001</td>\n",
       "    </tr>\n",
       "    <tr>\n",
       "      <th>3</th>\n",
       "      <td>200010310ATL</td>\n",
       "      <td>15.4</td>\n",
       "      <td>5.9</td>\n",
       "      <td>1st quarter</td>\n",
       "      <td>9:36.0</td>\n",
       "      <td>Elden Campbell</td>\n",
       "      <td>CHH</td>\n",
       "      <td>False</td>\n",
       "      <td>2-pointer</td>\n",
       "      <td>9</td>\n",
       "      <td>0-4</td>\n",
       "      <td>'CHH'</td>\n",
       "      <td>trails</td>\n",
       "      <td>2001</td>\n",
       "    </tr>\n",
       "    <tr>\n",
       "      <th>4</th>\n",
       "      <td>200010310ATL</td>\n",
       "      <td>20.3</td>\n",
       "      <td>25.0</td>\n",
       "      <td>1st quarter</td>\n",
       "      <td>9:18.0</td>\n",
       "      <td>David Wesley</td>\n",
       "      <td>CHH</td>\n",
       "      <td>True</td>\n",
       "      <td>2-pointer</td>\n",
       "      <td>20</td>\n",
       "      <td>2-4</td>\n",
       "      <td>'CHH'</td>\n",
       "      <td>trails</td>\n",
       "      <td>2001</td>\n",
       "    </tr>\n",
       "  </tbody>\n",
       "</table>\n",
       "</div>"
      ],
      "text/plain": [
       "       match_id  shotX  shotY      quarter time_remaining          player  \\\n",
       "0  200010310ATL    8.3   20.2  1st quarter        11:29.0     Baron Davis   \n",
       "1  200010310ATL   35.9   15.8  1st quarter        10:41.0  Jamal Mashburn   \n",
       "2  200010310ATL   24.0    5.0  1st quarter        10:38.0     Baron Davis   \n",
       "3  200010310ATL   15.4    5.9  1st quarter         9:36.0  Elden Campbell   \n",
       "4  200010310ATL   20.3   25.0  1st quarter         9:18.0    David Wesley   \n",
       "\n",
       "  team   made  shot_type  distance score    opp  status  year  \n",
       "0  CHH  False  2-pointer        22   0-2  'CHH'  trails  2001  \n",
       "1  CHH  False  2-pointer        16   0-2  'CHH'  trails  2001  \n",
       "2  CHH  False  2-pointer         0   0-2  'CHH'  trails  2001  \n",
       "3  CHH  False  2-pointer         9   0-4  'CHH'  trails  2001  \n",
       "4  CHH   True  2-pointer        20   2-4  'CHH'  trails  2001  "
      ]
     },
     "execution_count": 44,
     "metadata": {},
     "output_type": "execute_result"
    }
   ],
   "source": [
    "df.head()"
   ]
  },
  {
   "cell_type": "code",
   "execution_count": null,
   "id": "dc5c33e5",
   "metadata": {},
   "outputs": [],
   "source": [
    "years_list = df['year'].unique()\n",
    "\n",
    "for year in years_list:\n",
    "    #print(year)\n",
    "    df[df['year'] == year].to_csv('data_by_season/nba_shot_data_' + (str)(year) + '.csv', index=False)\n",
    "    \n",
    "\n"
   ]
  },
  {
   "cell_type": "code",
   "execution_count": null,
   "id": "84cec36e",
   "metadata": {},
   "outputs": [],
   "source": []
  }
 ],
 "metadata": {
  "kernelspec": {
   "display_name": "Python 3 (ipykernel)",
   "language": "python",
   "name": "python3"
  },
  "language_info": {
   "codemirror_mode": {
    "name": "ipython",
    "version": 3
   },
   "file_extension": ".py",
   "mimetype": "text/x-python",
   "name": "python",
   "nbconvert_exporter": "python",
   "pygments_lexer": "ipython3",
   "version": "3.9.7"
  }
 },
 "nbformat": 4,
 "nbformat_minor": 5
}
